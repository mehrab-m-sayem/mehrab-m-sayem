{
  "nbformat": 4,
  "nbformat_minor": 0,
  "metadata": {
    "colab": {
      "provenance": [],
      "collapsed_sections": []
    },
    "kernelspec": {
      "name": "python3",
      "display_name": "Python 3"
    },
    "language_info": {
      "name": "python"
    }
  },
  "cells": [
    {
      "cell_type": "markdown",
      "source": [
        "#Characteristics of array: (Not for Python Lists)\n",
        "1. The size of array is fixed. once it's declared, it cannot be changed after declaration (only can be changed by creating a new array which is called resizing the array function)\n",
        "2. Size means : the number of elements or data in the array (Except None or null)\n",
        "3. Capacity means the actual size of the array or the limit of elements the array can contain.\n",
        "4. If size==capacity, then we cannot add new elements or data into the array."
      ],
      "metadata": {
        "id": "ZOBOtxMv8bTq"
      }
    },
    {
      "cell_type": "code",
      "execution_count": null,
      "metadata": {
        "colab": {
          "base_uri": "https://localhost:8080/"
        },
        "id": "og4-KLSFEdjb",
        "outputId": "344542f4-31f8-42bd-ed63-e63eae95c07d"
      },
      "outputs": [
        {
          "output_type": "stream",
          "name": "stdout",
          "text": [
            "[None, None, None, None, None]\n"
          ]
        }
      ],
      "source": [
        "# arr = [None]*5\n",
        "# print(arr)\n"
      ]
    },
    {
      "cell_type": "code",
      "source": [
        "# arr[0] = \"Value1\"\n",
        "# print(arr)"
      ],
      "metadata": {
        "colab": {
          "base_uri": "https://localhost:8080/"
        },
        "id": "cLyo14htEy2P",
        "outputId": "c7d5820c-d96a-4796-9f39-014c4e4456fc"
      },
      "execution_count": null,
      "outputs": [
        {
          "output_type": "stream",
          "name": "stdout",
          "text": [
            "['Value1', None, None, None, None]\n"
          ]
        }
      ]
    },
    {
      "cell_type": "code",
      "source": [
        " arr = [1,3,5,7,9]\n",
        " print(len(arr))"
      ],
      "metadata": {
        "colab": {
          "base_uri": "https://localhost:8080/"
        },
        "id": "_gjOB4TXFuVc",
        "outputId": "50b47585-4af3-4dec-b5c7-400606f86290"
      },
      "execution_count": null,
      "outputs": [
        {
          "output_type": "stream",
          "name": "stdout",
          "text": [
            "5\n"
          ]
        }
      ]
    },
    {
      "cell_type": "code",
      "source": [
        "# arr = [1,3,5,7,9]\n",
        "def iteration(arr):\n",
        "  for i in range(len(arr)):\n",
        "    print(arr[i])\n",
        "iteration([1,3,5,7,9])    "
      ],
      "metadata": {
        "colab": {
          "base_uri": "https://localhost:8080/"
        },
        "id": "SwrNqR6eFQz3",
        "outputId": "2e53d325-425a-4763-ee2b-3f55b29723b2"
      },
      "execution_count": null,
      "outputs": [
        {
          "output_type": "stream",
          "name": "stdout",
          "text": [
            "1\n",
            "3\n",
            "5\n",
            "7\n",
            "9\n"
          ]
        }
      ]
    },
    {
      "cell_type": "code",
      "source": [
        "# reverse iteration\n",
        "def riteration(arr):\n",
        "  for i in range(len(arr)-1,-1,-1):\n",
        "    print(arr[i],end=\",\")\n",
        "riteration([1,3,5,7,9])  "
      ],
      "metadata": {
        "colab": {
          "base_uri": "https://localhost:8080/"
        },
        "id": "KiaiZn8CFhCV",
        "outputId": "7b4e85b0-8c4f-44c7-c4db-c89d914064bc"
      },
      "execution_count": null,
      "outputs": [
        {
          "output_type": "stream",
          "name": "stdout",
          "text": [
            "9,7,5,3,1,"
          ]
        }
      ]
    },
    {
      "cell_type": "code",
      "source": [
        "def copyarray(arr):\n",
        "  ashol_array = [None]*len(arr)\n",
        "  for i in range(len(arr)):\n",
        "    ashol_array[i] = arr[i]\n",
        "  return ashol_array\n",
        "\n",
        "copyarray([1,3,5,7,9])"
      ],
      "metadata": {
        "colab": {
          "base_uri": "https://localhost:8080/"
        },
        "id": "oAjuHXXhF-sf",
        "outputId": "350ed6f0-a1e4-469c-e04b-e2d4d2903f10"
      },
      "execution_count": null,
      "outputs": [
        {
          "output_type": "execute_result",
          "data": {
            "text/plain": [
              "[1, 3, 5, 7, 9]"
            ]
          },
          "metadata": {},
          "execution_count": 15
        }
      ]
    },
    {
      "cell_type": "code",
      "source": [
        "def copyarray(arr):\n",
        "  new_array = [None]*len(arr)\n",
        "  for i in range(len(arr)):\n",
        "    new_array[i] = arr[i]\n",
        "  return new_array\n",
        "\n",
        "copyarray([0,2,4,6,8])    "
      ],
      "metadata": {
        "colab": {
          "base_uri": "https://localhost:8080/"
        },
        "id": "pz07UzoCEemg",
        "outputId": "0d52b5d3-1b46-4463-a562-3a2233b1f693"
      },
      "execution_count": null,
      "outputs": [
        {
          "output_type": "execute_result",
          "data": {
            "text/plain": [
              "[0, 2, 4, 6, 8]"
            ]
          },
          "metadata": {},
          "execution_count": 1
        }
      ]
    },
    {
      "cell_type": "code",
      "source": [
        "def resizearr(arr):\n",
        "  ashol_array = [None]*7\n",
        "  for i in range(len(arr)):\n",
        "    ashol_array[i] = arr[i]\n",
        "  return ashol_array\n",
        "\n",
        "resizearr([1,3,5,7,9])"
      ],
      "metadata": {
        "colab": {
          "base_uri": "https://localhost:8080/"
        },
        "id": "pIAR7p9hH12I",
        "outputId": "c2da4a7e-2afa-4178-f52e-c9b690dd7637"
      },
      "execution_count": null,
      "outputs": [
        {
          "output_type": "execute_result",
          "data": {
            "text/plain": [
              "[1, 3, 5, 7, 9, None, None]"
            ]
          },
          "metadata": {},
          "execution_count": 1
        }
      ]
    },
    {
      "cell_type": "code",
      "source": [
        "def shift_left(arr):\n",
        "  for i in range(1,len(arr)):\n",
        "    arr[i-1]=arr[i]\n",
        "  arr[len(arr) - 1] = None  \n",
        "  return arr  \n",
        "\n",
        "shift_left([1, 3, 5, 7, 9, 11, 13])  \n"
      ],
      "metadata": {
        "colab": {
          "base_uri": "https://localhost:8080/"
        },
        "id": "tNLlO_FFMLxN",
        "outputId": "28eeb7d6-a0a2-440c-acd9-b3184dfb016f"
      },
      "execution_count": null,
      "outputs": [
        {
          "output_type": "execute_result",
          "data": {
            "text/plain": [
              "[3, 5, 7, 9, 11, 13, None]"
            ]
          },
          "metadata": {},
          "execution_count": 24
        }
      ]
    },
    {
      "cell_type": "code",
      "source": [
        "def left(arr):\n",
        "  for i in range(1,len(arr)):\n",
        "    arr[i-1] = arr[i]\n",
        "  arr[len(arr)-1] = None\n",
        "  return arr\n",
        "\n",
        "left([1,2,3,4,5])    "
      ],
      "metadata": {
        "colab": {
          "base_uri": "https://localhost:8080/"
        },
        "id": "2RR0U2f4yu2B",
        "outputId": "cca8fc60-d681-4038-d16b-a3811f9d1474"
      },
      "execution_count": null,
      "outputs": [
        {
          "output_type": "execute_result",
          "data": {
            "text/plain": [
              "[2, 3, 4, 5, None]"
            ]
          },
          "metadata": {},
          "execution_count": 2
        }
      ]
    },
    {
      "cell_type": "code",
      "source": [
        "def right_shift(arr):\n",
        "  for i in range(len(arr)-1,0,-1):\n",
        "    arr[i]=arr[i-1]\n",
        "  arr[0] = None  \n",
        "  return arr\n",
        "\n",
        "right_shift([1, 3, 5, 7, 9, 11, 13])\n",
        "    "
      ],
      "metadata": {
        "colab": {
          "base_uri": "https://localhost:8080/"
        },
        "id": "9Ja1PdhANPst",
        "outputId": "1976e77b-9386-413d-9f61-3b555ad97b70"
      },
      "execution_count": null,
      "outputs": [
        {
          "output_type": "execute_result",
          "data": {
            "text/plain": [
              "[None, 1, 3, 5, 7, 9, 11]"
            ]
          },
          "metadata": {},
          "execution_count": 27
        }
      ]
    },
    {
      "cell_type": "code",
      "source": [
        "def right(arr):\n",
        "  for i in range(len(arr)-1,-1,-1):\n",
        "    arr[i] = arr[i-1]\n",
        "  arr[0] = None\n",
        "  return arr\n",
        "right([1,2,3,4,5])  "
      ],
      "metadata": {
        "colab": {
          "base_uri": "https://localhost:8080/"
        },
        "id": "noyYVzExzT2N",
        "outputId": "59ea8db4-317d-4c2d-bdaa-f7b13a4f338c"
      },
      "execution_count": null,
      "outputs": [
        {
          "output_type": "execute_result",
          "data": {
            "text/plain": [
              "[None, 1, 2, 3, 4]"
            ]
          },
          "metadata": {},
          "execution_count": 11
        }
      ]
    },
    {
      "cell_type": "code",
      "source": [
        "def insert_element(arr,size,element,index):\n",
        "  if size==len(arr):\n",
        "    print(\"Array is already full, no space for new element\")\n",
        "  else:\n",
        "    for i in range(size,index,-1):\n",
        "      arr[i] = arr[i-1]\n",
        "    arr[index] = element\n",
        "  return arr\n",
        "\n",
        "insert_element([1, 3, 5, 7, 9, 11, 13,None,None],7,8,4)        "
      ],
      "metadata": {
        "colab": {
          "base_uri": "https://localhost:8080/"
        },
        "id": "38qamgtY8XBM",
        "outputId": "5ea6f229-cf6d-45e2-e860-2a9e217d7f2d"
      },
      "execution_count": null,
      "outputs": [
        {
          "output_type": "execute_result",
          "data": {
            "text/plain": [
              "[1, 3, 5, 7, 8, 9, 11, 13, None]"
            ]
          },
          "metadata": {},
          "execution_count": 3
        }
      ]
    },
    {
      "cell_type": "code",
      "source": [
        "def insert(arr,size,element,index):\n",
        "  if size==len(arr):\n",
        "    print(\"array full\")\n",
        "  else:\n",
        "    for i in range(size,index,-1):\n",
        "      arr[i] = arr[i-1]\n",
        "    arr[index] = element\n",
        "  return arr\n",
        "insert([1,2,3,4,5,None,None],5,0,2) "
      ],
      "metadata": {
        "colab": {
          "base_uri": "https://localhost:8080/"
        },
        "id": "8qUmihKp0jLY",
        "outputId": "a4c8e1c1-a696-4ec2-eba9-c39f955d9dd6"
      },
      "execution_count": null,
      "outputs": [
        {
          "output_type": "execute_result",
          "data": {
            "text/plain": [
              "[1, 2, 0, 3, 4, 5, None]"
            ]
          },
          "metadata": {},
          "execution_count": 15
        }
      ]
    },
    {
      "cell_type": "code",
      "source": [
        "def remove(arr,index,size):\n",
        "  for i in range(index+1,size):\n",
        "    arr[i-1] = arr[i]\n",
        "  arr[size-1] = None\n",
        "  return arr\n",
        "\n",
        "remove([1, 3, 5, 7, 9, 11, 13],4,7)"
      ],
      "metadata": {
        "colab": {
          "base_uri": "https://localhost:8080/"
        },
        "id": "zcnF8FPrIsWB",
        "outputId": "22402e64-4bb4-4786-93de-4bb153e93c62"
      },
      "execution_count": null,
      "outputs": [
        {
          "output_type": "execute_result",
          "data": {
            "text/plain": [
              "[1, 3, 5, 7, 11, 13, None]"
            ]
          },
          "metadata": {},
          "execution_count": 4
        }
      ]
    },
    {
      "cell_type": "code",
      "source": [
        "def remove(arr,index,size):\n",
        "  for i in range(index+1,size):\n",
        "    arr[i-1] = arr[i]\n",
        "  arr[size-1] = None\n",
        "  return arr\n",
        "\n",
        "remove([1,2,3,4,5,None,None],2,5)    "
      ],
      "metadata": {
        "id": "oR1467FzJffB",
        "colab": {
          "base_uri": "https://localhost:8080/"
        },
        "outputId": "7cbf7a18-ade0-4459-f2e3-295ebb1732b0"
      },
      "execution_count": null,
      "outputs": [
        {
          "output_type": "execute_result",
          "data": {
            "text/plain": [
              "[1, 2, 4, 5, None, None, None]"
            ]
          },
          "metadata": {},
          "execution_count": 13
        }
      ]
    },
    {
      "cell_type": "code",
      "source": [
        "def rleft(arr):\n",
        "  temp = arr[0]\n",
        "  for i in range(1,len(arr)):\n",
        "    arr[i-1] = arr[i]\n",
        "  arr[len(arr)-1] = temp\n",
        "  return arr\n",
        "rleft([1,2,3,4,5])    "
      ],
      "metadata": {
        "colab": {
          "base_uri": "https://localhost:8080/"
        },
        "id": "b6v7L0cU_1O-",
        "outputId": "defc1c73-d5e9-48dd-e459-9fdc6536e4b8"
      },
      "execution_count": null,
      "outputs": [
        {
          "output_type": "execute_result",
          "data": {
            "text/plain": [
              "[2, 3, 4, 5, 1]"
            ]
          },
          "metadata": {},
          "execution_count": 17
        }
      ]
    },
    {
      "cell_type": "code",
      "source": [
        "def rright(arr):\n",
        "  temp = arr[len(arr)-1]\n",
        "  for i in range(len(arr)-1,0,-1):\n",
        "    arr[i] = arr[i-1]\n",
        "  arr[0] = temp\n",
        "  return arr\n",
        "rright([1,2,3,4,5])    "
      ],
      "metadata": {
        "colab": {
          "base_uri": "https://localhost:8080/"
        },
        "id": "EKBURLzgD0pg",
        "outputId": "8d86ffef-4b7b-4bf4-d08b-68c6bfff4c39"
      },
      "execution_count": null,
      "outputs": [
        {
          "output_type": "execute_result",
          "data": {
            "text/plain": [
              "[5, 1, 2, 3, 4]"
            ]
          },
          "metadata": {},
          "execution_count": 19
        }
      ]
    },
    {
      "cell_type": "markdown",
      "source": [
        "# Circular Array"
      ],
      "metadata": {
        "id": "_p4bNI_pEw2-"
      }
    },
    {
      "cell_type": "code",
      "source": [
        "def forward_iteration(cir,start,size):\n",
        "  k = start\n",
        "  for i in range(size):\n",
        "    print(cir[k],end=\" \")\n",
        "    k = (k+1) % len(cir)\n",
        "  # return cir\n",
        "forward_iteration([1,2,3,4,5,6,7],2,7)    "
      ],
      "metadata": {
        "colab": {
          "base_uri": "https://localhost:8080/"
        },
        "id": "LYt-q9DdEzW_",
        "outputId": "d841937a-9277-41e7-abe6-a446b290390a"
      },
      "execution_count": null,
      "outputs": [
        {
          "output_type": "stream",
          "name": "stdout",
          "text": [
            "3 4 5 6 7 1 2 "
          ]
        }
      ]
    },
    {
      "cell_type": "code",
      "source": [
        "def bi(cir,start,size):\n",
        "  k = (start+size-1) % len(cir)\n",
        "  for i in range(size):\n",
        "    print(cir[k],end=\" \")\n",
        "    k = k - 1\n",
        "    if k==-1:\n",
        "      k = len(cir)-1\n",
        "\n",
        "bi([1,2,3,4,5,6,7],7,7)      \n"
      ],
      "metadata": {
        "colab": {
          "base_uri": "https://localhost:8080/"
        },
        "id": "Zo9EVUzdVIVQ",
        "outputId": "e1be4917-04a3-421b-8d39-0ce721047fa9"
      },
      "execution_count": null,
      "outputs": [
        {
          "output_type": "stream",
          "name": "stdout",
          "text": [
            "7 6 5 4 3 2 1 "
          ]
        }
      ]
    },
    {
      "cell_type": "code",
      "source": [
        "def lc(cir,start,size):\n",
        "  lin = [None]*size\n",
        "  k = start\n",
        "  for i in range(size):\n",
        "    lin[i] = cir[k]\n",
        "    k = (k+1) % len(cir)\n",
        "  print(lin)\n",
        "  print(cir)\n",
        "lc([3,4,1,2,5,6,7],2,7)    "
      ],
      "metadata": {
        "colab": {
          "base_uri": "https://localhost:8080/"
        },
        "id": "YYMU3Bh6rqMs",
        "outputId": "75b4c56a-0ab1-4abd-92ce-b33604b89dda"
      },
      "execution_count": null,
      "outputs": [
        {
          "output_type": "stream",
          "name": "stdout",
          "text": [
            "[1, 2, 5, 6, 7, 3, 4]\n",
            "[3, 4, 1, 2, 5, 6, 7]\n"
          ]
        }
      ]
    },
    {
      "cell_type": "markdown",
      "source": [
        "# Linked Lists"
      ],
      "metadata": {
        "id": "gzipX0LOdvI-"
      }
    },
    {
      "cell_type": "code",
      "source": [],
      "metadata": {
        "id": "14SnQiD5dwdX"
      },
      "execution_count": null,
      "outputs": []
    }
  ]
}